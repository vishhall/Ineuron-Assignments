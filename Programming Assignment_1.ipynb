{
 "cells": [
  {
   "cell_type": "code",
   "execution_count": 1,
   "id": "1487cf8c",
   "metadata": {},
   "outputs": [
    {
     "name": "stdout",
     "output_type": "stream",
     "text": [
      "Hello Python\n"
     ]
    }
   ],
   "source": [
    "#Question 1: Write a Python program to print \"Hello Python\"?\n",
    "\n",
    "print(\"Hello Python\")"
   ]
  },
  {
   "cell_type": "code",
   "execution_count": 2,
   "id": "135e05ed",
   "metadata": {},
   "outputs": [
    {
     "name": "stdout",
     "output_type": "stream",
     "text": [
      "2.0\n",
      "15\n"
     ]
    }
   ],
   "source": [
    "#Question 2: Write a Python program to do arithmetical operations addition and division.?\n",
    "\n",
    "a=10\n",
    "b=5\n",
    "print(a/b)\n",
    "print(a+b)"
   ]
  },
  {
   "cell_type": "code",
   "execution_count": 3,
   "id": "4692e3d2",
   "metadata": {},
   "outputs": [
    {
     "name": "stdout",
     "output_type": "stream",
     "text": [
      "Find Area of a Traingle\n",
      "Enter the base of the Triangle10\n",
      "Enter the Height of the Traingle20\n",
      "Area of Traingle is 100.0\n"
     ]
    }
   ],
   "source": [
    "#Question 3. Write a Python program to find the area of a triangle?\n",
    "\n",
    "print(\"Find Area of a Triangle\")\n",
    "a= int(input(\"Enter the base of the Triangle:\"))\n",
    "b=int(input(\"Enter the Height of the Traingle:\"))\n",
    "\n",
    "print(\"Area of Traingle is:\", (a*b)/2 )\n"
   ]
  },
  {
   "cell_type": "code",
   "execution_count": 5,
   "id": "41e80d4d",
   "metadata": {},
   "outputs": [
    {
     "name": "stdout",
     "output_type": "stream",
     "text": [
      " Pragram to Swap 2 Nos\n",
      "Enter 1st Number:1\n",
      "Enter 2nd Number:2\n",
      "Swapped 1st Number is: 2\n",
      "Swapped 2st Number is: 1\n"
     ]
    }
   ],
   "source": [
    "#Question 4: Write a Python program to swap two variables?\n",
    "\n",
    "print (\" Pragram to Swap 2 Nos\")\n",
    "a= int(input(\"Enter 1st Number:\"))\n",
    "b=int(input(\"Enter 2nd Number:\"))\n",
    "temp=a\n",
    "a=b\n",
    "b=temp\n",
    "print('Swapped 1st Number is:',a)\n",
    "print('Swapped 2st Number is:',b)"
   ]
  },
  {
   "cell_type": "code",
   "execution_count": null,
   "id": "9a398de3",
   "metadata": {},
   "outputs": [],
   "source": [
    "\n",
    "#Question 4: Write a Python program to generate a random number?\n",
    "\n",
    "# Not sure whether the random function to be used as I have not Covered this at this point"
   ]
  }
 ],
 "metadata": {
  "kernelspec": {
   "display_name": "Python 3",
   "language": "python",
   "name": "python3"
  },
  "language_info": {
   "codemirror_mode": {
    "name": "ipython",
    "version": 3
   },
   "file_extension": ".py",
   "mimetype": "text/x-python",
   "name": "python",
   "nbconvert_exporter": "python",
   "pygments_lexer": "ipython3",
   "version": "3.8.8"
  }
 },
 "nbformat": 4,
 "nbformat_minor": 5
}
