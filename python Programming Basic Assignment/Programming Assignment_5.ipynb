{
 "cells": [
  {
   "cell_type": "code",
   "execution_count": 1,
   "id": "35cb1ce6",
   "metadata": {},
   "outputs": [
    {
     "name": "stdout",
     "output_type": "stream",
     "text": [
      "Enter the 1st Number12\n",
      "Enter the 2nd Number24\n",
      "24\n"
     ]
    }
   ],
   "source": [
    "#Write a Python Program to Find LCM?\n",
    "num1=int(input(\"Enter the 1st Number:\"))\n",
    "num2=int(input(\"Enter the 2nd Number: \"))\n",
    "if(num1>num2):\n",
    "    max=num1\n",
    "else:\n",
    "    max=num2\n",
    "while(True):\n",
    "    if(max%num1==0 and max%num2==0):\n",
    "        print(max)\n",
    "        break\n",
    "    max=max+1\n"
   ]
  },
  {
   "cell_type": "code",
   "execution_count": 2,
   "id": "0089159f",
   "metadata": {},
   "outputs": [
    {
     "name": "stdout",
     "output_type": "stream",
     "text": [
      "Enter the 1st Number:50\n",
      "Enter the 2nd Number: 100\n",
      "Hcf of the two nos: 50 and  100 is:  50\n"
     ]
    }
   ],
   "source": [
    "# Write a Python Program to Find HCF?\n",
    "num1=int(input(\"Enter the 1st Number:\"))\n",
    "num2=int(input(\"Enter the 2nd Number: \"))\n",
    "if num1>num2:\n",
    "    num1,num2=num2,num1\n",
    "for i in range(1,num1+1):\n",
    "    if(num1%i==0 and num2%i==0):\n",
    "        hcf=i\n",
    "print(\"Hcf of the two nos:\", num1,\"and \",num2,\"is: \",hcf)\n"
   ]
  },
  {
   "cell_type": "code",
   "execution_count": 5,
   "id": "0f3d240e",
   "metadata": {},
   "outputs": [
    {
     "name": "stdout",
     "output_type": "stream",
     "text": [
      "Enter the 1st Number:10\n",
      "The number: 10  in Binary is: 0b1010\n",
      "The number: 10  in Octal is: 0o12\n",
      "The number: 10  in Hexadecimal is: 0xa\n"
     ]
    }
   ],
   "source": [
    "# Write a Python Program to Convert Decimal to Binary, Octal and Hexadecimal?\n",
    "num=int(input(\"Enter the 1st Number:\"))\n",
    "print(\"The number:\",num,\" in Binary is:\",bin(num))\n",
    "print(\"The number:\",num,\" in Octal is:\",oct(num))\n",
    "print(\"The number:\",num,\" in Hexadecimal is:\",hex(num))"
   ]
  },
  {
   "cell_type": "code",
   "execution_count": 7,
   "id": "77743988",
   "metadata": {},
   "outputs": [
    {
     "name": "stdout",
     "output_type": "stream",
     "text": [
      "Enter a Chaacter for ASCII:p\n",
      "ASCII value of  p is : 112\n"
     ]
    }
   ],
   "source": [
    "# Write a Python Program To Find ASCII value of a character?\n",
    "char=input(\"Enter a Chaacter for ASCII:\")\n",
    "print(\"ASCII value of \",char,\"is :\",ord(char))\n"
   ]
  },
  {
   "cell_type": "code",
   "execution_count": null,
   "id": "dd9a52f5",
   "metadata": {},
   "outputs": [],
   "source": [
    "# Write a Python Program to Make a Simple Calculator with 4 basic mathematical operations?\n",
    "\n",
    "#  Not done with Functions Yet\n",
    "                       "
   ]
  }
 ],
 "metadata": {
  "kernelspec": {
   "display_name": "Python 3",
   "language": "python",
   "name": "python3"
  },
  "language_info": {
   "codemirror_mode": {
    "name": "ipython",
    "version": 3
   },
   "file_extension": ".py",
   "mimetype": "text/x-python",
   "name": "python",
   "nbconvert_exporter": "python",
   "pygments_lexer": "ipython3",
   "version": "3.8.8"
  }
 },
 "nbformat": 4,
 "nbformat_minor": 5
}
