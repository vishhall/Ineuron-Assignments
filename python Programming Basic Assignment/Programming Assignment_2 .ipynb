{
 "cells": [
  {
   "cell_type": "code",
   "execution_count": 2,
   "id": "31d1c8c9",
   "metadata": {},
   "outputs": [
    {
     "name": "stdout",
     "output_type": "stream",
     "text": [
      "Enter the Kilometers to be Converted:10\n",
      "Kms entered was: 10.0 and equivalent miles is: 6.21371\n"
     ]
    }
   ],
   "source": [
    "#Question: Write a Python program to convert kilometers to miles?\n",
    "\n",
    "km=float(input(\"Enter the Kilometers to be Converted:\"))\n",
    "mi=0.621371*km\n",
    "print(\"Kms entered was:\",km,\"and equivalent miles is:\",mi)"
   ]
  },
  {
   "cell_type": "code",
   "execution_count": 3,
   "id": "abb60aa4",
   "metadata": {},
   "outputs": [
    {
     "name": "stdout",
     "output_type": "stream",
     "text": [
      "Enter the Degree Celcius to be Converted:98.2\n",
      "Celcius entered was: 98.2 and Equivalent Fahrenheit is: 208.76000000000002\n"
     ]
    }
   ],
   "source": [
    "# Write a Python program to convert Celsius to Fahrenheit?\n",
    "\n",
    "cel=float(input(\"Enter the Degree Celcius to be Converted:\"))\n",
    "fh=(cel*1.8)+32\n",
    "print(\"Celcius entered was:\",cel,\"and Equivalent Fahrenheit is:\",fh)"
   ]
  },
  {
   "cell_type": "code",
   "execution_count": null,
   "id": "e71111da",
   "metadata": {},
   "outputs": [],
   "source": [
    "# Write a Python program to display calendar?\n",
    "# Call Import Module -- which I have not done yet (Self Study Joined the classes in July 2021)"
   ]
  },
  {
   "cell_type": "code",
   "execution_count": null,
   "id": "98975302",
   "metadata": {},
   "outputs": [],
   "source": [
    "#Write a Python program to solve quadratic equation?\n",
    "# same as above"
   ]
  },
  {
   "cell_type": "code",
   "execution_count": 6,
   "id": "ddc641e4",
   "metadata": {},
   "outputs": [
    {
     "name": "stdout",
     "output_type": "stream",
     "text": [
      "Enter 1st Number:10\n",
      "Enter 2nd Number:20\n",
      "After Swapping: 1St Number is: 20 and 2nd Number is 10\n"
     ]
    }
   ],
   "source": [
    "#Write a Python program to swap two variables without temp variable?\n",
    "a=int(input(\"Enter 1st Number:\"))\n",
    "b=int(input(\"Enter 2nd Number:\"))\n",
    "a=a+b\n",
    "b=a-b\n",
    "a=a-b\n",
    "print(\"After Swapping:\",\"1St Number is:\",a,\"and 2nd Number is\",b)"
   ]
  },
  {
   "cell_type": "code",
   "execution_count": null,
   "id": "6601f71a",
   "metadata": {},
   "outputs": [],
   "source": []
  }
 ],
 "metadata": {
  "kernelspec": {
   "display_name": "Python 3",
   "language": "python",
   "name": "python3"
  },
  "language_info": {
   "codemirror_mode": {
    "name": "ipython",
    "version": 3
   },
   "file_extension": ".py",
   "mimetype": "text/x-python",
   "name": "python",
   "nbconvert_exporter": "python",
   "pygments_lexer": "ipython3",
   "version": "3.8.8"
  }
 },
 "nbformat": 4,
 "nbformat_minor": 5
}
