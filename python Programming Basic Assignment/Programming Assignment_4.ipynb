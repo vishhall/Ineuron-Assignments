{
 "cells": [
  {
   "cell_type": "code",
   "execution_count": 6,
   "id": "f2129fba",
   "metadata": {},
   "outputs": [
    {
     "name": "stdout",
     "output_type": "stream",
     "text": [
      "Enter the Number:5\n",
      "The factorial of the Number: 5 ! is : 120\n"
     ]
    }
   ],
   "source": [
    "#Write a Python Program to Find the Factorial of a Number?\n",
    "\n",
    "num=int(input(\"Enter the Number:\"))\n",
    "if (num<0):\n",
    "    print(\"Factorial is only for Postive Numbers\")\n",
    "elif (num==0):\n",
    "    print(\"Factorial of 0 is 1\")\n",
    "else:\n",
    "    fact=1\n",
    "    for i in range(1,num+1):\n",
    "        fact=fact*i\n",
    "    print(\"The factorial of the Number:\",num,\"! is :\",fact)"
   ]
  },
  {
   "cell_type": "code",
   "execution_count": 7,
   "id": "cbfe326a",
   "metadata": {},
   "outputs": [
    {
     "name": "stdout",
     "output_type": "stream",
     "text": [
      "Enter the Number:5\n",
      "5 x 1 = 5\n",
      "5 x 2 = 10\n",
      "5 x 3 = 15\n",
      "5 x 4 = 20\n",
      "5 x 5 = 25\n",
      "5 x 6 = 30\n",
      "5 x 7 = 35\n",
      "5 x 8 = 40\n",
      "5 x 9 = 45\n",
      "5 x 10 = 50\n"
     ]
    }
   ],
   "source": [
    "#Write a Python Program to Display the multiplication Table?\n",
    "num=int(input(\"Enter the Number:\"))\n",
    "for i in range(1,11):\n",
    "    print(num,'x',i,'=',num*i)\n",
    "    "
   ]
  },
  {
   "cell_type": "code",
   "execution_count": 9,
   "id": "4e38203d",
   "metadata": {},
   "outputs": [
    {
     "name": "stdout",
     "output_type": "stream",
     "text": [
      "Enter the Number:5\n",
      "Fibonacci Series:\n",
      "0\n",
      "1\n",
      "1\n",
      "2\n",
      "3\n"
     ]
    }
   ],
   "source": [
    "# Write a Python Program to Print the Fibonacci sequence?\n",
    "\n",
    "num=int(input(\"Enter the Number:\"))\n",
    "num1,num2=0,1\n",
    "count=0\n",
    "\n",
    "if num<=0:\n",
    "    print(\"Enter a Positive Number\")\n",
    "elif num==1:\n",
    "    print(\"Fibonacci Series of 1 is 0,1\")\n",
    "else:\n",
    "    print(\"Fibonacci Series:\")\n",
    "    while(count<num):\n",
    "        print(num1)\n",
    "        num3=num1+num2\n",
    "        num1=num2\n",
    "        num2=num3\n",
    "        count=count+1"
   ]
  },
  {
   "cell_type": "code",
   "execution_count": 17,
   "id": "1032b327",
   "metadata": {},
   "outputs": [
    {
     "name": "stdout",
     "output_type": "stream",
     "text": [
      "Enter the Number for Armstrong Number:153\n",
      "153  is a Armstrong Number\n"
     ]
    }
   ],
   "source": [
    "# Write a Python Program to Check Armstrong Number?\n",
    "num=input(\"Enter the Number for Armstrong Number:\")\n",
    "length=len(str(num))\n",
    "sum=0\n",
    "num=int(num)\n",
    "temp=num\n",
    "while temp>0:\n",
    "    digit=temp%10\n",
    "    sum=sum+(digit**length)\n",
    "    temp//=10\n",
    "    \n",
    "if num==sum:\n",
    "    print(num,\" is a Armstrong Number\")\n",
    "else:\n",
    "    print(num,\" is not a Armstrong Number\")"
   ]
  },
  {
   "cell_type": "code",
   "execution_count": 22,
   "id": "2b897c94",
   "metadata": {},
   "outputs": [
    {
     "name": "stdout",
     "output_type": "stream",
     "text": [
      "Enter the Min Number for Armstrong Number:100\n",
      "Enter the Max Number for Armstrong Number:2000\n",
      "153\n",
      "370\n",
      "371\n",
      "407\n",
      "1634\n"
     ]
    }
   ],
   "source": [
    "# Write a Python Program to Find Armstrong Number in an Interval?\n",
    "low=input(\"Enter the Min Number for Armstrong Number:\")\n",
    "high=input(\"Enter the Max Number for Armstrong Number:\")\n",
    "low_length=len(str(low))\n",
    "high_length=len(str(high))\n",
    "sum=0\n",
    "low_num=int(low)\n",
    "high_num=int(high)\n",
    "\n",
    "for num in range(low_num,high_num+1):\n",
    "    length=len(str(num))\n",
    "    sum=0\n",
    "    temp=num\n",
    "    while(temp>0):\n",
    "        digit=temp%10\n",
    "        sum=sum+(digit**length)\n",
    "        temp//=10\n",
    "    if num==sum:\n",
    "        print(num)\n",
    "    "
   ]
  },
  {
   "cell_type": "code",
   "execution_count": 23,
   "id": "86e25176",
   "metadata": {},
   "outputs": [
    {
     "name": "stdout",
     "output_type": "stream",
     "text": [
      "Enter the Number :5\n",
      "The sum is:  15\n"
     ]
    }
   ],
   "source": [
    "# Write a Python Program to Find the Sum of Natural Numbers?\n",
    "\n",
    "num=int(input(\"Enter the Number :\"))\n",
    "if num<0:\n",
    "    print(\"Enter a positive number\")\n",
    "else:\n",
    "    sum=0\n",
    "    while(num>0):\n",
    "        sum=sum+num\n",
    "        num=num-1\n",
    "    print(\"The sum is: \",sum)\n"
   ]
  },
  {
   "cell_type": "code",
   "execution_count": null,
   "id": "7f0cab43",
   "metadata": {},
   "outputs": [],
   "source": []
  }
 ],
 "metadata": {
  "kernelspec": {
   "display_name": "Python 3",
   "language": "python",
   "name": "python3"
  },
  "language_info": {
   "codemirror_mode": {
    "name": "ipython",
    "version": 3
   },
   "file_extension": ".py",
   "mimetype": "text/x-python",
   "name": "python",
   "nbconvert_exporter": "python",
   "pygments_lexer": "ipython3",
   "version": "3.8.8"
  }
 },
 "nbformat": 4,
 "nbformat_minor": 5
}
